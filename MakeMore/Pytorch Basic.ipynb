{
 "cells": [
  {
   "cell_type": "code",
   "execution_count": 1,
   "id": "18d6accf",
   "metadata": {},
   "outputs": [],
   "source": [
    "import torch"
   ]
  },
  {
   "cell_type": "code",
   "execution_count": 4,
   "id": "ae099b33",
   "metadata": {},
   "outputs": [],
   "source": [
    "x = torch.empty(4,2)"
   ]
  },
  {
   "cell_type": "code",
   "execution_count": 5,
   "id": "fc182f6d",
   "metadata": {},
   "outputs": [
    {
     "data": {
      "text/plain": [
       "tensor([[3.3605e-24, 1.5442e-42],\n",
       "        [0.0000e+00, 0.0000e+00],\n",
       "        [0.0000e+00, 0.0000e+00],\n",
       "        [0.0000e+00, 0.0000e+00]])"
      ]
     },
     "execution_count": 5,
     "metadata": {},
     "output_type": "execute_result"
    }
   ],
   "source": [
    "x"
   ]
  },
  {
   "cell_type": "code",
   "execution_count": 9,
   "id": "dd9183e2",
   "metadata": {},
   "outputs": [],
   "source": [
    "x = torch.ones(4,2, dtype = torch.float32)"
   ]
  },
  {
   "cell_type": "code",
   "execution_count": 10,
   "id": "78ce6ae8",
   "metadata": {},
   "outputs": [
    {
     "data": {
      "text/plain": [
       "tensor([[1., 1.],\n",
       "        [1., 1.],\n",
       "        [1., 1.],\n",
       "        [1., 1.]])"
      ]
     },
     "execution_count": 10,
     "metadata": {},
     "output_type": "execute_result"
    }
   ],
   "source": [
    "x"
   ]
  },
  {
   "cell_type": "code",
   "execution_count": 11,
   "id": "766b9ce0",
   "metadata": {},
   "outputs": [
    {
     "name": "stdout",
     "output_type": "stream",
     "text": [
      "torch.float32\n"
     ]
    }
   ],
   "source": [
    "print(x.dtype)"
   ]
  },
  {
   "cell_type": "code",
   "execution_count": 12,
   "id": "4ab91132",
   "metadata": {},
   "outputs": [
    {
     "name": "stdout",
     "output_type": "stream",
     "text": [
      "torch.Size([4, 2])\n"
     ]
    }
   ],
   "source": [
    "print(x.size())"
   ]
  },
  {
   "cell_type": "code",
   "execution_count": 13,
   "id": "f70ee56b",
   "metadata": {},
   "outputs": [],
   "source": [
    "x = torch.rand(3,3)"
   ]
  },
  {
   "cell_type": "code",
   "execution_count": 14,
   "id": "639fbdb0",
   "metadata": {},
   "outputs": [
    {
     "data": {
      "text/plain": [
       "tensor([[0.1199, 0.7673, 0.7713],\n",
       "        [0.6147, 0.5190, 0.6840],\n",
       "        [0.4378, 0.2043, 0.4025]])"
      ]
     },
     "execution_count": 14,
     "metadata": {},
     "output_type": "execute_result"
    }
   ],
   "source": [
    "x"
   ]
  },
  {
   "cell_type": "code",
   "execution_count": 22,
   "id": "199efa4b",
   "metadata": {},
   "outputs": [],
   "source": [
    "x = torch.randn(3, requires_grad = True)"
   ]
  },
  {
   "cell_type": "code",
   "execution_count": 23,
   "id": "ab8fd4d2",
   "metadata": {},
   "outputs": [
    {
     "name": "stdout",
     "output_type": "stream",
     "text": [
      "tensor([-0.1702,  0.0014, -1.2939], requires_grad=True)\n"
     ]
    }
   ],
   "source": [
    "print(x)"
   ]
  },
  {
   "cell_type": "code",
   "execution_count": 33,
   "id": "ee3c030b",
   "metadata": {},
   "outputs": [
    {
     "ename": "IndentationError",
     "evalue": "expected an indented block after 'with' statement on line 3 (3273595035.py, line 4)",
     "output_type": "error",
     "traceback": [
      "\u001b[1;36m  Cell \u001b[1;32mIn[33], line 4\u001b[1;36m\u001b[0m\n\u001b[1;33m    print(x)\u001b[0m\n\u001b[1;37m    ^\u001b[0m\n\u001b[1;31mIndentationError\u001b[0m\u001b[1;31m:\u001b[0m expected an indented block after 'with' statement on line 3\n"
     ]
    }
   ],
   "source": [
    "#x.requires_grad_(False)\n",
    "#x.detach()\n",
    "#with torch.no_grad():\n",
    "#all this is required for not keeping the information of gradient\n",
    "print(x)"
   ]
  },
  {
   "cell_type": "code",
   "execution_count": 24,
   "id": "b7643248",
   "metadata": {},
   "outputs": [],
   "source": [
    "y = x + 2"
   ]
  },
  {
   "cell_type": "code",
   "execution_count": 25,
   "id": "1bc4fee3",
   "metadata": {},
   "outputs": [
    {
     "name": "stdout",
     "output_type": "stream",
     "text": [
      "tensor([1.8298, 2.0014, 0.7061], grad_fn=<AddBackward0>)\n"
     ]
    }
   ],
   "source": [
    "print(y)"
   ]
  },
  {
   "cell_type": "code",
   "execution_count": 26,
   "id": "6d7c573f",
   "metadata": {},
   "outputs": [],
   "source": [
    "z = y * y * 2"
   ]
  },
  {
   "cell_type": "code",
   "execution_count": 27,
   "id": "ed3af893",
   "metadata": {},
   "outputs": [],
   "source": [
    "z = z.mean()"
   ]
  },
  {
   "cell_type": "code",
   "execution_count": 28,
   "id": "1eeb48fb",
   "metadata": {},
   "outputs": [
    {
     "name": "stdout",
     "output_type": "stream",
     "text": [
      "tensor(5.2348, grad_fn=<MeanBackward0>)\n"
     ]
    }
   ],
   "source": [
    "print(z)"
   ]
  },
  {
   "cell_type": "code",
   "execution_count": null,
   "id": "1ec67383",
   "metadata": {},
   "outputs": [],
   "source": []
  },
  {
   "cell_type": "code",
   "execution_count": 29,
   "id": "4ef421f2",
   "metadata": {},
   "outputs": [],
   "source": [
    "z.backward()"
   ]
  },
  {
   "cell_type": "code",
   "execution_count": 30,
   "id": "21e1699d",
   "metadata": {},
   "outputs": [
    {
     "name": "stdout",
     "output_type": "stream",
     "text": [
      "tensor([2.4397, 2.6685, 0.9415])\n"
     ]
    }
   ],
   "source": [
    "print(x.grad)"
   ]
  },
  {
   "cell_type": "code",
   "execution_count": 34,
   "id": "c28a0aaa",
   "metadata": {},
   "outputs": [],
   "source": [
    "weights = torch.ones(4, requires_grad = True)"
   ]
  },
  {
   "cell_type": "code",
   "execution_count": 35,
   "id": "971ba350",
   "metadata": {
    "scrolled": false
   },
   "outputs": [
    {
     "name": "stdout",
     "output_type": "stream",
     "text": [
      "None\n"
     ]
    }
   ],
   "source": [
    "print(weights.grad)"
   ]
  },
  {
   "cell_type": "code",
   "execution_count": 37,
   "id": "0f275ca4",
   "metadata": {},
   "outputs": [
    {
     "name": "stdout",
     "output_type": "stream",
     "text": [
      "tensor([3., 3., 3., 3.])\n",
      "tensor([6., 6., 6., 6.])\n",
      "tensor([9., 9., 9., 9.])\n"
     ]
    }
   ],
   "source": [
    "#for  getting the gradient of a step\n",
    "for epoch in range(3):\n",
    "    model_output = (weights * 3).sum()\n",
    "    model_output.backward()\n",
    "    \n",
    "    print(weights.grad)"
   ]
  },
  {
   "cell_type": "markdown",
   "id": "b4fea689",
   "metadata": {},
   "source": [
    " The output is this because the gradients are typically added to existing gradient. That's why use \n",
    "weight.grad.zero_() \n",
    " for clearing existing values"
   ]
  },
  {
   "cell_type": "code",
   "execution_count": 38,
   "id": "fe0def77",
   "metadata": {},
   "outputs": [],
   "source": [
    "x = torch.tensor(1.0)"
   ]
  },
  {
   "cell_type": "code",
   "execution_count": 39,
   "id": "0ec62d8d",
   "metadata": {},
   "outputs": [],
   "source": [
    "y = torch.tensor(2.0)"
   ]
  },
  {
   "cell_type": "code",
   "execution_count": 40,
   "id": "eef9baf2",
   "metadata": {},
   "outputs": [],
   "source": [
    "w = torch.tensor(1.0, requires_grad = True)"
   ]
  },
  {
   "cell_type": "code",
   "execution_count": 41,
   "id": "cacdad64",
   "metadata": {},
   "outputs": [],
   "source": [
    "#forward pass and compute the loss\n",
    "y_hat = w * x\n",
    "loss = (y_hat - y)** 2"
   ]
  },
  {
   "cell_type": "code",
   "execution_count": 42,
   "id": "07112ce2",
   "metadata": {},
   "outputs": [
    {
     "name": "stdout",
     "output_type": "stream",
     "text": [
      "tensor(1., grad_fn=<PowBackward0>)\n"
     ]
    }
   ],
   "source": [
    "print(loss)"
   ]
  },
  {
   "cell_type": "code",
   "execution_count": 43,
   "id": "87fa9cb5",
   "metadata": {},
   "outputs": [
    {
     "name": "stdout",
     "output_type": "stream",
     "text": [
      "tensor(-2.)\n"
     ]
    }
   ],
   "source": [
    "#backward pass\n",
    "loss.backward()\n",
    "print(w.grad)"
   ]
  },
  {
   "cell_type": "code",
   "execution_count": 44,
   "id": "e781f560",
   "metadata": {},
   "outputs": [],
   "source": [
    "import numpy as np"
   ]
  },
  {
   "cell_type": "code",
   "execution_count": 57,
   "id": "8e279467",
   "metadata": {},
   "outputs": [],
   "source": [
    "X = torch.tensor([1,2,3,4], dtype = torch.float32)"
   ]
  },
  {
   "cell_type": "code",
   "execution_count": 58,
   "id": "6c7e8e56",
   "metadata": {},
   "outputs": [],
   "source": [
    "Y = torch.tensor([2,4,6,8], dtype = torch.float32)"
   ]
  },
  {
   "cell_type": "code",
   "execution_count": 59,
   "id": "d6a6e7ba",
   "metadata": {},
   "outputs": [],
   "source": [
    "w = torch.tensor(0.0, dtype = torch.float32, requires_grad = True)"
   ]
  },
  {
   "cell_type": "code",
   "execution_count": 60,
   "id": "24e72583",
   "metadata": {},
   "outputs": [],
   "source": [
    "#model prediction\n",
    "def forward(x):\n",
    "    return w * x"
   ]
  },
  {
   "cell_type": "code",
   "execution_count": 61,
   "id": "f60e2e51",
   "metadata": {},
   "outputs": [],
   "source": [
    "#loss = MSE\n",
    "def loss(y, y_pred):\n",
    "    return ((y_pred - y)**2).mean()"
   ]
  },
  {
   "cell_type": "code",
   "execution_count": 62,
   "id": "c8c1c3d9",
   "metadata": {},
   "outputs": [],
   "source": [
    "# gradient\n",
    "#J =  MSE = 1/N * (w*x - y)**2\n",
    "# dJ/dw = 1/N * 2x * (w*x - y)\n",
    "def gradient(x, y, y_pred):\n",
    "    return np.dot(2*x, y_pred - y).mean()"
   ]
  },
  {
   "cell_type": "code",
   "execution_count": 63,
   "id": "8aebff44",
   "metadata": {},
   "outputs": [
    {
     "name": "stdout",
     "output_type": "stream",
     "text": [
      "Prediction before training: f(5) = 0.000\n"
     ]
    }
   ],
   "source": [
    "print(f'Prediction before training: f(5) = {forward(5):.3f}')"
   ]
  },
  {
   "cell_type": "code",
   "execution_count": 64,
   "id": "c91ed912",
   "metadata": {},
   "outputs": [
    {
     "name": "stdout",
     "output_type": "stream",
     "text": [
      "epoch 1 : w = 0.300, loss = 30.00000000\n",
      "epoch 11 : w = 1.665, loss = 1.16278565\n",
      "epoch 21 : w = 1.934, loss = 0.04506890\n",
      "epoch 31 : w = 1.987, loss = 0.00174685\n",
      "epoch 41 : w = 1.997, loss = 0.00006770\n",
      "epoch 51 : w = 1.999, loss = 0.00000262\n",
      "epoch 61 : w = 2.000, loss = 0.00000010\n",
      "epoch 71 : w = 2.000, loss = 0.00000000\n",
      "epoch 81 : w = 2.000, loss = 0.00000000\n",
      "epoch 91 : w = 2.000, loss = 0.00000000\n",
      "epoch 101 : w = 2.000, loss = 0.00000000\n",
      "epoch 111 : w = 2.000, loss = 0.00000000\n",
      "epoch 121 : w = 2.000, loss = 0.00000000\n",
      "epoch 131 : w = 2.000, loss = 0.00000000\n",
      "epoch 141 : w = 2.000, loss = 0.00000000\n",
      "epoch 151 : w = 2.000, loss = 0.00000000\n",
      "epoch 161 : w = 2.000, loss = 0.00000000\n",
      "epoch 171 : w = 2.000, loss = 0.00000000\n",
      "epoch 181 : w = 2.000, loss = 0.00000000\n",
      "epoch 191 : w = 2.000, loss = 0.00000000\n",
      "epoch 201 : w = 2.000, loss = 0.00000000\n",
      "epoch 211 : w = 2.000, loss = 0.00000000\n",
      "epoch 221 : w = 2.000, loss = 0.00000000\n",
      "epoch 231 : w = 2.000, loss = 0.00000000\n",
      "epoch 241 : w = 2.000, loss = 0.00000000\n",
      "epoch 251 : w = 2.000, loss = 0.00000000\n",
      "epoch 261 : w = 2.000, loss = 0.00000000\n",
      "epoch 271 : w = 2.000, loss = 0.00000000\n",
      "epoch 281 : w = 2.000, loss = 0.00000000\n",
      "epoch 291 : w = 2.000, loss = 0.00000000\n",
      "epoch 301 : w = 2.000, loss = 0.00000000\n",
      "epoch 311 : w = 2.000, loss = 0.00000000\n",
      "epoch 321 : w = 2.000, loss = 0.00000000\n",
      "epoch 331 : w = 2.000, loss = 0.00000000\n",
      "epoch 341 : w = 2.000, loss = 0.00000000\n",
      "epoch 351 : w = 2.000, loss = 0.00000000\n",
      "epoch 361 : w = 2.000, loss = 0.00000000\n",
      "epoch 371 : w = 2.000, loss = 0.00000000\n",
      "epoch 381 : w = 2.000, loss = 0.00000000\n",
      "epoch 391 : w = 2.000, loss = 0.00000000\n",
      "epoch 401 : w = 2.000, loss = 0.00000000\n",
      "epoch 411 : w = 2.000, loss = 0.00000000\n",
      "epoch 421 : w = 2.000, loss = 0.00000000\n",
      "epoch 431 : w = 2.000, loss = 0.00000000\n",
      "epoch 441 : w = 2.000, loss = 0.00000000\n",
      "epoch 451 : w = 2.000, loss = 0.00000000\n",
      "epoch 461 : w = 2.000, loss = 0.00000000\n",
      "epoch 471 : w = 2.000, loss = 0.00000000\n",
      "epoch 481 : w = 2.000, loss = 0.00000000\n",
      "epoch 491 : w = 2.000, loss = 0.00000000\n",
      "epoch 501 : w = 2.000, loss = 0.00000000\n",
      "epoch 511 : w = 2.000, loss = 0.00000000\n",
      "epoch 521 : w = 2.000, loss = 0.00000000\n",
      "epoch 531 : w = 2.000, loss = 0.00000000\n",
      "epoch 541 : w = 2.000, loss = 0.00000000\n",
      "epoch 551 : w = 2.000, loss = 0.00000000\n",
      "epoch 561 : w = 2.000, loss = 0.00000000\n",
      "epoch 571 : w = 2.000, loss = 0.00000000\n",
      "epoch 581 : w = 2.000, loss = 0.00000000\n",
      "epoch 591 : w = 2.000, loss = 0.00000000\n",
      "epoch 601 : w = 2.000, loss = 0.00000000\n",
      "epoch 611 : w = 2.000, loss = 0.00000000\n",
      "epoch 621 : w = 2.000, loss = 0.00000000\n",
      "epoch 631 : w = 2.000, loss = 0.00000000\n",
      "epoch 641 : w = 2.000, loss = 0.00000000\n",
      "epoch 651 : w = 2.000, loss = 0.00000000\n",
      "epoch 661 : w = 2.000, loss = 0.00000000\n",
      "epoch 671 : w = 2.000, loss = 0.00000000\n",
      "epoch 681 : w = 2.000, loss = 0.00000000\n",
      "epoch 691 : w = 2.000, loss = 0.00000000\n",
      "epoch 701 : w = 2.000, loss = 0.00000000\n",
      "epoch 711 : w = 2.000, loss = 0.00000000\n",
      "epoch 721 : w = 2.000, loss = 0.00000000\n",
      "epoch 731 : w = 2.000, loss = 0.00000000\n",
      "epoch 741 : w = 2.000, loss = 0.00000000\n",
      "epoch 751 : w = 2.000, loss = 0.00000000\n",
      "epoch 761 : w = 2.000, loss = 0.00000000\n",
      "epoch 771 : w = 2.000, loss = 0.00000000\n",
      "epoch 781 : w = 2.000, loss = 0.00000000\n",
      "epoch 791 : w = 2.000, loss = 0.00000000\n",
      "epoch 801 : w = 2.000, loss = 0.00000000\n",
      "epoch 811 : w = 2.000, loss = 0.00000000\n",
      "epoch 821 : w = 2.000, loss = 0.00000000\n",
      "epoch 831 : w = 2.000, loss = 0.00000000\n",
      "epoch 841 : w = 2.000, loss = 0.00000000\n",
      "epoch 851 : w = 2.000, loss = 0.00000000\n",
      "epoch 861 : w = 2.000, loss = 0.00000000\n",
      "epoch 871 : w = 2.000, loss = 0.00000000\n",
      "epoch 881 : w = 2.000, loss = 0.00000000\n",
      "epoch 891 : w = 2.000, loss = 0.00000000\n",
      "epoch 901 : w = 2.000, loss = 0.00000000\n",
      "epoch 911 : w = 2.000, loss = 0.00000000\n",
      "epoch 921 : w = 2.000, loss = 0.00000000\n",
      "epoch 931 : w = 2.000, loss = 0.00000000\n",
      "epoch 941 : w = 2.000, loss = 0.00000000\n",
      "epoch 951 : w = 2.000, loss = 0.00000000\n",
      "epoch 961 : w = 2.000, loss = 0.00000000\n",
      "epoch 971 : w = 2.000, loss = 0.00000000\n",
      "epoch 981 : w = 2.000, loss = 0.00000000\n",
      "epoch 991 : w = 2.000, loss = 0.00000000\n",
      "Prediction after training: f(5) =  10.000\n"
     ]
    }
   ],
   "source": [
    "#Training\n",
    "learning_rate = 0.01\n",
    "n_iters = 1000\n",
    "\n",
    "for epoch in range(n_iters):\n",
    "    #prediction = forward pass\n",
    "    y_pred = forward(X)\n",
    "    \n",
    "    # loss\n",
    "    l = loss(Y, y_pred)\n",
    "    \n",
    "    #gradients\n",
    "    l.backward() # dl/dw\n",
    "    \n",
    "    # update weights\n",
    "    with torch.no_grad():\n",
    "        w -= learning_rate * w.grad\n",
    "        \n",
    "    w.grad.zero_()\n",
    "    \n",
    "    if epoch % 10 == 0:\n",
    "        print(f'epoch {epoch + 1} : w = {w:.3f}, loss = {l:.8f}')\n",
    "        \n",
    "print(f'Prediction after training: f(5) = {forward(5): .3f}')"
   ]
  },
  {
   "cell_type": "code",
   "execution_count": 65,
   "id": "0b060197",
   "metadata": {},
   "outputs": [],
   "source": [
    "# 1) Design model (input, output size, forward pass)\n",
    "# 2) Construct loss and optimizer\n",
    "# 3) Training Loop\n",
    "\n",
    "#   - forward pass : compute prediction\n",
    "#   - backward pass : gradients\n",
    "#   - update weights"
   ]
  },
  {
   "cell_type": "code",
   "execution_count": 66,
   "id": "014bbe81",
   "metadata": {},
   "outputs": [],
   "source": [
    "import torch.nn as nn"
   ]
  },
  {
   "cell_type": "code",
   "execution_count": 80,
   "id": "c441f394",
   "metadata": {},
   "outputs": [],
   "source": [
    "X = torch.tensor([[1], [2], [3], [4]], dtype = torch.float32)\n",
    "Y = torch.tensor([[2], [4], [6], [8]], dtype = torch.float32)"
   ]
  },
  {
   "cell_type": "code",
   "execution_count": 81,
   "id": "bda09c3e",
   "metadata": {},
   "outputs": [
    {
     "name": "stdout",
     "output_type": "stream",
     "text": [
      "4 1\n"
     ]
    }
   ],
   "source": [
    "X_test = torch.tensor([5], dtype = torch.float32)\n",
    "n_samples , n_features = X.shape\n",
    "print(n_samples, n_features)"
   ]
  },
  {
   "cell_type": "code",
   "execution_count": 82,
   "id": "5cd56a78",
   "metadata": {},
   "outputs": [],
   "source": [
    "input_size = n_features\n",
    "output_size = n_features"
   ]
  },
  {
   "cell_type": "code",
   "execution_count": 84,
   "id": "52a9d6fb",
   "metadata": {},
   "outputs": [],
   "source": [
    "model = nn.Linear(input_size, output_size)"
   ]
  },
  {
   "cell_type": "code",
   "execution_count": 85,
   "id": "04f20b2d",
   "metadata": {},
   "outputs": [
    {
     "name": "stdout",
     "output_type": "stream",
     "text": [
      "epoch 1 : w = -0.439, loss = 67.80056763\n",
      "epoch 11 : w = 1.451, loss = 1.80381680\n",
      "epoch 21 : w = 1.760, loss = 0.09343369\n",
      "epoch 31 : w = 1.814, loss = 0.04645988\n",
      "epoch 41 : w = 1.827, loss = 0.04268107\n",
      "epoch 51 : w = 1.833, loss = 0.04016899\n",
      "epoch 61 : w = 1.839, loss = 0.03783028\n",
      "epoch 71 : w = 1.843, loss = 0.03562833\n",
      "epoch 81 : w = 1.848, loss = 0.03355453\n",
      "epoch 91 : w = 1.852, loss = 0.03160149\n",
      "epoch 101 : w = 1.857, loss = 0.02976215\n",
      "epoch 111 : w = 1.861, loss = 0.02802980\n",
      "epoch 121 : w = 1.865, loss = 0.02639833\n",
      "epoch 131 : w = 1.869, loss = 0.02486181\n",
      "epoch 141 : w = 1.873, loss = 0.02341469\n",
      "epoch 151 : w = 1.877, loss = 0.02205184\n",
      "epoch 161 : w = 1.880, loss = 0.02076833\n",
      "epoch 171 : w = 1.884, loss = 0.01955952\n",
      "epoch 181 : w = 1.887, loss = 0.01842104\n",
      "epoch 191 : w = 1.891, loss = 0.01734884\n",
      "epoch 201 : w = 1.894, loss = 0.01633905\n",
      "epoch 211 : w = 1.897, loss = 0.01538803\n",
      "epoch 221 : w = 1.900, loss = 0.01449237\n",
      "epoch 231 : w = 1.903, loss = 0.01364882\n",
      "epoch 241 : w = 1.906, loss = 0.01285440\n",
      "epoch 251 : w = 1.909, loss = 0.01210621\n",
      "epoch 261 : w = 1.911, loss = 0.01140156\n",
      "epoch 271 : w = 1.914, loss = 0.01073794\n",
      "epoch 281 : w = 1.917, loss = 0.01011294\n",
      "epoch 291 : w = 1.919, loss = 0.00952430\n",
      "epoch 301 : w = 1.921, loss = 0.00896994\n",
      "epoch 311 : w = 1.924, loss = 0.00844784\n",
      "epoch 321 : w = 1.926, loss = 0.00795614\n",
      "epoch 331 : w = 1.928, loss = 0.00749304\n",
      "epoch 341 : w = 1.930, loss = 0.00705691\n",
      "epoch 351 : w = 1.932, loss = 0.00664615\n",
      "epoch 361 : w = 1.934, loss = 0.00625931\n",
      "epoch 371 : w = 1.936, loss = 0.00589498\n",
      "epoch 381 : w = 1.938, loss = 0.00555187\n",
      "epoch 391 : w = 1.940, loss = 0.00522872\n",
      "epoch 401 : w = 1.942, loss = 0.00492438\n",
      "epoch 411 : w = 1.943, loss = 0.00463775\n",
      "epoch 421 : w = 1.945, loss = 0.00436781\n",
      "epoch 431 : w = 1.947, loss = 0.00411357\n",
      "epoch 441 : w = 1.948, loss = 0.00387415\n",
      "epoch 451 : w = 1.950, loss = 0.00364865\n",
      "epoch 461 : w = 1.951, loss = 0.00343628\n",
      "epoch 471 : w = 1.953, loss = 0.00323627\n",
      "epoch 481 : w = 1.954, loss = 0.00304791\n",
      "epoch 491 : w = 1.956, loss = 0.00287049\n",
      "epoch 501 : w = 1.957, loss = 0.00270342\n",
      "epoch 511 : w = 1.958, loss = 0.00254607\n",
      "epoch 521 : w = 1.959, loss = 0.00239788\n",
      "epoch 531 : w = 1.961, loss = 0.00225830\n",
      "epoch 541 : w = 1.962, loss = 0.00212686\n",
      "epoch 551 : w = 1.963, loss = 0.00200307\n",
      "epoch 561 : w = 1.964, loss = 0.00188648\n",
      "epoch 571 : w = 1.965, loss = 0.00177667\n",
      "epoch 581 : w = 1.966, loss = 0.00167327\n",
      "epoch 591 : w = 1.967, loss = 0.00157588\n",
      "epoch 601 : w = 1.968, loss = 0.00148415\n",
      "epoch 611 : w = 1.969, loss = 0.00139776\n",
      "epoch 621 : w = 1.970, loss = 0.00131641\n",
      "epoch 631 : w = 1.971, loss = 0.00123979\n",
      "epoch 641 : w = 1.972, loss = 0.00116762\n",
      "epoch 651 : w = 1.972, loss = 0.00109966\n",
      "epoch 661 : w = 1.973, loss = 0.00103566\n",
      "epoch 671 : w = 1.974, loss = 0.00097538\n",
      "epoch 681 : w = 1.975, loss = 0.00091860\n",
      "epoch 691 : w = 1.976, loss = 0.00086513\n",
      "epoch 701 : w = 1.976, loss = 0.00081477\n",
      "epoch 711 : w = 1.977, loss = 0.00076735\n",
      "epoch 721 : w = 1.978, loss = 0.00072269\n",
      "epoch 731 : w = 1.978, loss = 0.00068062\n",
      "epoch 741 : w = 1.979, loss = 0.00064101\n",
      "epoch 751 : w = 1.980, loss = 0.00060370\n",
      "epoch 761 : w = 1.980, loss = 0.00056856\n",
      "epoch 771 : w = 1.981, loss = 0.00053546\n",
      "epoch 781 : w = 1.981, loss = 0.00050430\n",
      "epoch 791 : w = 1.982, loss = 0.00047495\n",
      "epoch 801 : w = 1.982, loss = 0.00044730\n",
      "epoch 811 : w = 1.983, loss = 0.00042127\n",
      "epoch 821 : w = 1.983, loss = 0.00039675\n",
      "epoch 831 : w = 1.984, loss = 0.00037366\n",
      "epoch 841 : w = 1.984, loss = 0.00035191\n",
      "epoch 851 : w = 1.985, loss = 0.00033142\n",
      "epoch 861 : w = 1.985, loss = 0.00031214\n",
      "epoch 871 : w = 1.986, loss = 0.00029397\n",
      "epoch 881 : w = 1.986, loss = 0.00027686\n",
      "epoch 891 : w = 1.987, loss = 0.00026074\n",
      "epoch 901 : w = 1.987, loss = 0.00024557\n",
      "epoch 911 : w = 1.987, loss = 0.00023127\n",
      "epoch 921 : w = 1.988, loss = 0.00021781\n",
      "epoch 931 : w = 1.988, loss = 0.00020513\n",
      "epoch 941 : w = 1.988, loss = 0.00019319\n",
      "epoch 951 : w = 1.989, loss = 0.00018195\n",
      "epoch 961 : w = 1.989, loss = 0.00017135\n",
      "epoch 971 : w = 1.989, loss = 0.00016138\n",
      "epoch 981 : w = 1.990, loss = 0.00015199\n",
      "epoch 991 : w = 1.990, loss = 0.00014314\n"
     ]
    },
    {
     "ename": "TypeError",
     "evalue": "unsupported format string passed to Tensor.__format__",
     "output_type": "error",
     "traceback": [
      "\u001b[1;31m---------------------------------------------------------------------------\u001b[0m",
      "\u001b[1;31mTypeError\u001b[0m                                 Traceback (most recent call last)",
      "Cell \u001b[1;32mIn[85], line 28\u001b[0m\n\u001b[0;32m     25\u001b[0m         [w,b] \u001b[38;5;241m=\u001b[39m model\u001b[38;5;241m.\u001b[39mparameters()\n\u001b[0;32m     26\u001b[0m         \u001b[38;5;28mprint\u001b[39m(\u001b[38;5;124mf\u001b[39m\u001b[38;5;124m'\u001b[39m\u001b[38;5;124mepoch \u001b[39m\u001b[38;5;132;01m{\u001b[39;00mepoch\u001b[38;5;250m \u001b[39m\u001b[38;5;241m+\u001b[39m\u001b[38;5;250m \u001b[39m\u001b[38;5;241m1\u001b[39m\u001b[38;5;132;01m}\u001b[39;00m\u001b[38;5;124m : w = \u001b[39m\u001b[38;5;132;01m{\u001b[39;00mw[\u001b[38;5;241m0\u001b[39m][\u001b[38;5;241m0\u001b[39m]\u001b[38;5;241m.\u001b[39mitem()\u001b[38;5;132;01m:\u001b[39;00m\u001b[38;5;124m.3f\u001b[39m\u001b[38;5;132;01m}\u001b[39;00m\u001b[38;5;124m, loss = \u001b[39m\u001b[38;5;132;01m{\u001b[39;00ml\u001b[38;5;132;01m:\u001b[39;00m\u001b[38;5;124m.8f\u001b[39m\u001b[38;5;132;01m}\u001b[39;00m\u001b[38;5;124m'\u001b[39m)\n\u001b[1;32m---> 28\u001b[0m \u001b[38;5;28mprint\u001b[39m(\u001b[38;5;124mf\u001b[39m\u001b[38;5;124m'\u001b[39m\u001b[38;5;124mPrediction after training: f(5) = \u001b[39m\u001b[38;5;132;01m{\u001b[39;00mforward(\u001b[38;5;241m5\u001b[39m)\u001b[38;5;132;01m:\u001b[39;00m\u001b[38;5;124m .3f\u001b[39m\u001b[38;5;132;01m}\u001b[39;00m\u001b[38;5;124m'\u001b[39m)\n",
      "File \u001b[1;32mC:\\Python310\\lib\\site-packages\\torch\\_tensor.py:934\u001b[0m, in \u001b[0;36mTensor.__format__\u001b[1;34m(self, format_spec)\u001b[0m\n\u001b[0;32m    932\u001b[0m \u001b[38;5;28;01mif\u001b[39;00m \u001b[38;5;28mself\u001b[39m\u001b[38;5;241m.\u001b[39mdim() \u001b[38;5;241m==\u001b[39m \u001b[38;5;241m0\u001b[39m \u001b[38;5;129;01mand\u001b[39;00m \u001b[38;5;129;01mnot\u001b[39;00m \u001b[38;5;28mself\u001b[39m\u001b[38;5;241m.\u001b[39mis_meta \u001b[38;5;129;01mand\u001b[39;00m \u001b[38;5;28mtype\u001b[39m(\u001b[38;5;28mself\u001b[39m) \u001b[38;5;129;01mis\u001b[39;00m Tensor:\n\u001b[0;32m    933\u001b[0m     \u001b[38;5;28;01mreturn\u001b[39;00m \u001b[38;5;28mself\u001b[39m\u001b[38;5;241m.\u001b[39mitem()\u001b[38;5;241m.\u001b[39m\u001b[38;5;21m__format__\u001b[39m(format_spec)\n\u001b[1;32m--> 934\u001b[0m \u001b[38;5;28;01mreturn\u001b[39;00m \u001b[38;5;28;43mobject\u001b[39;49m\u001b[38;5;241;43m.\u001b[39;49m\u001b[38;5;21;43m__format__\u001b[39;49m\u001b[43m(\u001b[49m\u001b[38;5;28;43mself\u001b[39;49m\u001b[43m,\u001b[49m\u001b[43m \u001b[49m\u001b[43mformat_spec\u001b[49m\u001b[43m)\u001b[49m\n",
      "\u001b[1;31mTypeError\u001b[0m: unsupported format string passed to Tensor.__format__"
     ]
    }
   ],
   "source": [
    "#Training\n",
    "learning_rate = 0.01\n",
    "n_iters = 1000\n",
    "\n",
    "\n",
    "loss = nn.MSELoss()\n",
    "optimizer = torch.optim.SGD(model.parameters(), lr = learning_rate)\n",
    "for epoch in range(n_iters):\n",
    "    #prediction = forward pass\n",
    "    y_pred = model(X)\n",
    "    \n",
    "    # loss\n",
    "    l = loss(Y, y_pred)\n",
    "    \n",
    "    #gradients\n",
    "    l.backward() # dl/dw\n",
    "    \n",
    "    # update weights\n",
    "    optimizer.step()\n",
    "    \n",
    "    # setting weights to zero\n",
    "    optimizer.zero_grad()\n",
    "    \n",
    "    if epoch % 10 == 0:\n",
    "        [w,b] = model.parameters()\n",
    "        print(f'epoch {epoch + 1} : w = {w[0][0].item():.3f}, loss = {l:.8f}')\n",
    "        \n",
    "print(f'Prediction after training: f(5) = {forward(5): .3f}')"
   ]
  },
  {
   "cell_type": "code",
   "execution_count": 83,
   "id": "0c57bad1",
   "metadata": {},
   "outputs": [],
   "source": [
    "class LinearRegression(nn.Module):\n",
    "    \n",
    "    def __init__(self, input_dim, output_dim):\n",
    "        super(LinearRegression, self).__init__()\n",
    "        \n",
    "        #define layers\n",
    "        self.lin = nn.Linear(input_dim, output_dim)\n",
    "        \n",
    "    def forward(self, x):\n",
    "        return self.lin(x)\n",
    "    \n",
    "model = LinearRegression(input_size, output_size)\n",
    "\n",
    "#same as \n",
    "\n",
    "#model = nn.Linear(input_size, output_size)\n",
    "        \n",
    "        "
   ]
  },
  {
   "cell_type": "code",
   "execution_count": 86,
   "id": "88dbec4b",
   "metadata": {},
   "outputs": [],
   "source": [
    "from sklearn import datasets"
   ]
  },
  {
   "cell_type": "code",
   "execution_count": 87,
   "id": "eb058d6f",
   "metadata": {},
   "outputs": [],
   "source": [
    "import matplotlib.pyplot as plt"
   ]
  },
  {
   "cell_type": "code",
   "execution_count": 88,
   "id": "ddd8d00d",
   "metadata": {},
   "outputs": [],
   "source": [
    "X_numpy, y_numpy = datasets.make_regression(n_samples = 100, n_features = 1, noise = 20, random_state = 1)"
   ]
  },
  {
   "cell_type": "code",
   "execution_count": 89,
   "id": "8f709766",
   "metadata": {},
   "outputs": [],
   "source": [
    "X = torch.from_numpy(X_numpy.astype(np.float32))\n",
    "y = torch.from_numpy(y_numpy.astype(np.float32))\n",
    "y = y.view(y.shape[0], 1)"
   ]
  },
  {
   "cell_type": "code",
   "execution_count": 90,
   "id": "dc0a80c6",
   "metadata": {},
   "outputs": [],
   "source": [
    "n_samples , n_features = X.shape"
   ]
  },
  {
   "cell_type": "code",
   "execution_count": 92,
   "id": "5f2aa60e",
   "metadata": {},
   "outputs": [],
   "source": [
    "# 1) model\n",
    "input_size = n_features\n",
    "output_size = 1\n",
    "model = nn.Linear(input_size, output_size)"
   ]
  },
  {
   "cell_type": "code",
   "execution_count": 93,
   "id": "2df5c811",
   "metadata": {},
   "outputs": [],
   "source": [
    "# 2)loss and optimizer\n",
    "learning_rate = 0.01\n",
    "criterion = nn.MSELoss()\n",
    "optimizer = torch.optim.SGD(model.parameters(), lr = learning_rate) "
   ]
  },
  {
   "cell_type": "code",
   "execution_count": 94,
   "id": "ca0ead57",
   "metadata": {},
   "outputs": [
    {
     "name": "stdout",
     "output_type": "stream",
     "text": [
      "epoch: 10, loss =  4276.6392\n",
      "epoch: 20, loss =  3195.1082\n",
      "epoch: 30, loss =  2411.8862\n",
      "epoch: 40, loss =  1844.1245\n",
      "epoch: 50, loss =  1432.1683\n",
      "epoch: 60, loss =  1133.0060\n",
      "epoch: 70, loss =  915.5823\n",
      "epoch: 80, loss =  757.4495\n",
      "epoch: 90, loss =  642.3622\n",
      "epoch: 100, loss =  558.5514\n"
     ]
    }
   ],
   "source": [
    "# 3) training loop\n",
    "num_epochs = 100\n",
    "for epoch in range(num_epochs):\n",
    "    #forward pass and loss\n",
    "    \n",
    "    y_predicted = model(X)\n",
    "    loss = criterion(y_predicted, y)\n",
    "    \n",
    "    #backward pass\n",
    "    loss.backward()\n",
    "    \n",
    "    #update \n",
    "    optimizer.step()\n",
    "    \n",
    "    optimizer.zero_grad()\n",
    "    \n",
    "    if (epoch + 1) % 10 == 0:\n",
    "        print(f'epoch: {epoch + 1}, loss = {loss.item(): .4f}')\n"
   ]
  },
  {
   "cell_type": "code",
   "execution_count": 95,
   "id": "ef296797",
   "metadata": {},
   "outputs": [
    {
     "data": {
      "image/png": "[encoded data removed]",
      "text/plain": [
       "<Figure size 640x480 with 1 Axes>"
      ]
     },
     "metadata": {},
     "output_type": "display_data"
    }
   ],
   "source": [
    "#plot \n",
    "predicted = model(X).detach().numpy()\n",
    "plt.plot(X_numpy, y_numpy, 'ro')\n",
    "plt.plot(X_numpy, predicted , 'b')\n",
    "plt.show()\n"
   ]
  },
  {
   "cell_type": "code",
   "execution_count": 96,
   "id": "940a36f7",
   "metadata": {},
   "outputs": [],
   "source": [
    "from sklearn.preprocessing import StandardScaler\n",
    "from sklearn.model_selection import train_test_split"
   ]
  },
  {
   "cell_type": "code",
   "execution_count": 97,
   "id": "f82f872a",
   "metadata": {},
   "outputs": [],
   "source": [
    "bc = datasets.load_breast_cancer()\n"
   ]
  },
  {
   "cell_type": "code",
   "execution_count": 98,
   "id": "4d352d66",
   "metadata": {},
   "outputs": [],
   "source": [
    "X, y = bc.data, bc.target"
   ]
  },
  {
   "cell_type": "code",
   "execution_count": 99,
   "id": "2a33eb1b",
   "metadata": {},
   "outputs": [],
   "source": [
    "n_samples, n_features = X.shape\n"
   ]
  },
  {
   "cell_type": "code",
   "execution_count": 100,
   "id": "c35bb3f8",
   "metadata": {},
   "outputs": [],
   "source": [
    "X_train, X_test , y_train, y_test = train_test_split(X, y, test_size = 0.2, random_state = 1234)"
   ]
  },
  {
   "cell_type": "code",
   "execution_count": 101,
   "id": "9859850f",
   "metadata": {},
   "outputs": [],
   "source": [
    "# scale features\n",
    "sc = StandardScaler()\n",
    "X_train = sc.fit_transform(X_train)\n",
    "X_test = sc.transform(X_test)"
   ]
  },
  {
   "cell_type": "code",
   "execution_count": 102,
   "id": "e4a6bfe4",
   "metadata": {},
   "outputs": [],
   "source": [
    "X_train = torch.from_numpy(X_train.astype(np.float32))\n",
    "X_test = torch.from_numpy(X_test.astype(np.float32))\n",
    "y_train = torch.from_numpy(y_train.astype(np.float32))\n",
    "y_test = torch.from_numpy(y_test.astype(np.float32))\n",
    "\n",
    "y_train = y_train.view(y_train.shape[0], 1)\n",
    "y_test = y_test.view(y_test.shape[0], 1)"
   ]
  },
  {
   "cell_type": "code",
   "execution_count": 104,
   "id": "3bb488f7",
   "metadata": {},
   "outputs": [],
   "source": [
    "class LogisticRegression(nn.Module):\n",
    "    \n",
    "    def __init__(self, n_input_features ):\n",
    "        super(LogisticRegression, self).__init__()\n",
    "        self.linear = nn.Linear(n_input_features, 1)\n",
    "        \n",
    "    def forward(self, x):\n",
    "        y_predicted = torch.sigmoid(self.linear(x))\n",
    "        return y_predicted\n",
    "    \n",
    "model = LogisticRegression(n_features)\n",
    "\n"
   ]
  },
  {
   "cell_type": "code",
   "execution_count": 105,
   "id": "9260e1b0",
   "metadata": {},
   "outputs": [],
   "source": [
    "# 2) loss and operator\n",
    "criterion = nn.BCELoss()\n",
    "optimizer = torch.optim.SGD(model.parameters(), lr = learning_rate)\n",
    "\n"
   ]
  },
  {
   "cell_type": "code",
   "execution_count": 106,
   "id": "7bff821d",
   "metadata": {},
   "outputs": [
    {
     "name": "stdout",
     "output_type": "stream",
     "text": [
      "epoch: 10, loss =  0.7632\n",
      "epoch: 20, loss =  0.5986\n",
      "epoch: 30, loss =  0.4989\n",
      "epoch: 40, loss =  0.4332\n",
      "epoch: 50, loss =  0.3866\n",
      "epoch: 60, loss =  0.3519\n",
      "epoch: 70, loss =  0.3248\n",
      "epoch: 80, loss =  0.3031\n",
      "epoch: 90, loss =  0.2851\n",
      "epoch: 100, loss =  0.2699\n",
      "accuracy =  0.8947\n"
     ]
    }
   ],
   "source": [
    "# 3) training loop\n",
    "num_epochs = 100\n",
    "for epoch in range(num_epochs):\n",
    "    #forward pass and loss\n",
    "    y_predicted = model(X_train)\n",
    "    loss = criterion(y_predicted, y_train)\n",
    "    \n",
    "    #backward pass\n",
    "    loss.backward()\n",
    "    \n",
    "    #updates\n",
    "    optimizer.step()\n",
    "    \n",
    "    # zero the gradients\n",
    "    optimizer.zero_grad()\n",
    "    \n",
    "    if (epoch + 1) % 10 == 0:\n",
    "        print(f'epoch: {epoch + 1}, loss = {loss.item(): .4f}')\n",
    "        \n",
    "with torch.no_grad():\n",
    "    y_predicted = model(X_test)\n",
    "    y_predicted_cls = y_predicted.round()\n",
    "    acc = y_predicted_cls.eq(y_test).sum() / float(y_test.shape[0])\n",
    "    print(f'accuracy = {acc: .4f}')\n"
   ]
  },
  {
   "cell_type": "code",
   "execution_count": 109,
   "id": "dcbd2b32",
   "metadata": {},
   "outputs": [],
   "source": [
    "import torch\n",
    "import torchvision\n",
    "from torch.utils.data import Dataset, DataLoader\n",
    "import numpy as np\n",
    "import math"
   ]
  },
  {
   "cell_type": "code",
   "execution_count": 124,
   "id": "6f52fd9e",
   "metadata": {},
   "outputs": [],
   "source": [
    "class WineDataset(Dataset):\n",
    "    \n",
    "    def __init__(self):\n",
    "        # data loading\n",
    "        xy = np.loadtxt('wine.csv', delimiter = \",\", dtype = np.float32, skiprows = 1)\n",
    "        self.x = torch.from_numpy(xy[:, 1:])\n",
    "        self.y = torch.from_numpy(xy[:, [0]])\n",
    "        self.n_samples = xy.shape[0]\n",
    "    def __getitem__(self, index):\n",
    "        return self.x[index], self.y[index]\n",
    "    \n",
    "    def __len__(self):\n",
    "        return self.n_samples"
   ]
  },
  {
   "cell_type": "code",
   "execution_count": 125,
   "id": "1e8e8cff",
   "metadata": {},
   "outputs": [],
   "source": [
    "dataset = WineDataset()\n",
    "dataloader = DataLoader(dataset = dataset, batch_size = 4, shuffle = True, num_workers = 2)"
   ]
  },
  {
   "cell_type": "code",
   "execution_count": 126,
   "id": "dd3d742c",
   "metadata": {},
   "outputs": [
    {
     "name": "stdout",
     "output_type": "stream",
     "text": [
      "<class 'numpy.ndarray'> <class 'numpy.ndarray'>\n",
      "<class 'numpy.ndarray'> <class 'numpy.ndarray'>\n"
     ]
    }
   ],
   "source": [
    "\n",
    "class WineDataset(Dataset):\n",
    "    \n",
    "    def __init__(self, transform = None):\n",
    "        # data loading\n",
    "        xy = np.loadtxt('wine.csv', delimiter = \",\", dtype = np.float32, skiprows = 1)\n",
    "        self.n_samples = xy.shape[0]\n",
    "        self.x =xy[:, 1:]\n",
    "        self.y = xy[:, [0]]\n",
    "        \n",
    "        self.transform = transform\n",
    "        \n",
    "    def __getitem__(self, index):\n",
    "        return self.x[index], self.y[index]\n",
    "    \n",
    "        if self.transform:\n",
    "            sample = self.transform(sample)\n",
    "            \n",
    "            return sample\n",
    "    \n",
    "    def __len__(self):\n",
    "        return self.n_samples\n",
    "    \n",
    "class ToTensor:\n",
    "    def __call__(self, sample):\n",
    "        inputs, targets = sample\n",
    "        return torch.from_numpy(inputs), torch.from_numpy(targets)\n",
    "    \n",
    "class MulTransform:\n",
    "    def __init__(self, factor):\n",
    "        self.factor = factor\n",
    "        \n",
    "    def __call__(self, sample):\n",
    "        inputs, target = sample\n",
    "        inputs *= self.factor\n",
    "        return inputs, target\n",
    "    \n",
    "dataset = WineDataset(transform = ToTensor())\n",
    "first_data = dataset[0]\n",
    "features , labels = first_data\n",
    "print(type(features), type(labels))\n",
    "\n",
    "composed = torchvision.transforms.Compose([ToTensor(), MulTransform(2)])\n",
    "dataset = WineDataset(transform = composed)\n",
    "first_data = dataset[0]\n",
    "features , labels = first_data\n",
    "print(type(features), type(labels))"
   ]
  },
  {
   "cell_type": "code",
   "execution_count": 127,
   "id": "8c8a3a50",
   "metadata": {},
   "outputs": [],
   "source": [
    "def softmax(x):\n",
    "    return np.exp(x) / np.sum(np.exp(x), axis = 0)"
   ]
  },
  {
   "cell_type": "code",
   "execution_count": 128,
   "id": "e60ea193",
   "metadata": {},
   "outputs": [
    {
     "name": "stdout",
     "output_type": "stream",
     "text": [
      "softmax numpy :  [0.65900114 0.24243297 0.09856589]\n"
     ]
    }
   ],
   "source": [
    "x = np.array([2.0,1.0,0.1])\n",
    "outputs = softmax(x)\n",
    "print('softmax numpy : ', outputs)\n"
   ]
  },
  {
   "cell_type": "code",
   "execution_count": 130,
   "id": "b348eabe",
   "metadata": {},
   "outputs": [
    {
     "name": "stdout",
     "output_type": "stream",
     "text": [
      "tensor([0.6590, 0.2424, 0.0986])\n"
     ]
    }
   ],
   "source": [
    "x = torch.tensor([2.0, 1.0, 0.1])\n",
    "outputs = torch.softmax(x, dim = 0)\n",
    "print( outputs)"
   ]
  },
  {
   "cell_type": "code",
   "execution_count": 131,
   "id": "7c141342",
   "metadata": {},
   "outputs": [],
   "source": [
    "loss = nn.CrossEntropyLoss()"
   ]
  },
  {
   "cell_type": "code",
   "execution_count": 132,
   "id": "8ad46547",
   "metadata": {},
   "outputs": [],
   "source": [
    "def cross_entropy(actual, predicted):\n",
    "    loss = -np.sum(actual * np.log(predicted))\n",
    "    return loss"
   ]
  },
  {
   "cell_type": "code",
   "execution_count": 140,
   "id": "58b85774",
   "metadata": {},
   "outputs": [],
   "source": [
    "Y = torch.tensor([2, 0, 1])\n",
    "# nsamples * nclasses = 1*3\n",
    "Y_pred_good = torch.tensor([[0.1,1.0,2.1], [2.0,1.0,0.1], [0.1,3.0,0.1]])\n",
    "Y_pred_bad = torch.tensor([[2.1,1.0,0.1], [0.1,1.0,2.1], [0.1,3.0,0.1]])\n"
   ]
  },
  {
   "cell_type": "code",
   "execution_count": 141,
   "id": "1be14d00",
   "metadata": {},
   "outputs": [],
   "source": [
    "l1 = loss(Y_pred_good, Y)\n",
    "l2 = loss(Y_pred_bad, Y)"
   ]
  },
  {
   "cell_type": "code",
   "execution_count": 142,
   "id": "7bba6c09",
   "metadata": {},
   "outputs": [
    {
     "name": "stdout",
     "output_type": "stream",
     "text": [
      "0.3018244206905365\n",
      "1.6241613626480103\n"
     ]
    }
   ],
   "source": [
    "print(l1.item())\n",
    "print(l2.item())"
   ]
  },
  {
   "cell_type": "code",
   "execution_count": 143,
   "id": "63eb2317",
   "metadata": {},
   "outputs": [],
   "source": [
    "_, predictions1 = torch.max(Y_pred_good, 1)"
   ]
  },
  {
   "cell_type": "code",
   "execution_count": 144,
   "id": "70ea22ae",
   "metadata": {},
   "outputs": [
    {
     "name": "stdout",
     "output_type": "stream",
     "text": [
      "tensor([2, 0, 1])\n"
     ]
    }
   ],
   "source": [
    "print(predictions1)"
   ]
  },
  {
   "cell_type": "code",
   "execution_count": null,
   "id": "03ed104b",
   "metadata": {},
   "outputs": [],
   "source": []
  }
 ],
 "metadata": {
  "kernelspec": {
   "display_name": "Python 3 (ipykernel)",
   "language": "python",
   "name": "python3"
  },
  "language_info": {
   "codemirror_mode": {
    "name": "ipython",
    "version": 3
   },
   "file_extension": ".py",
   "mimetype": "text/x-python",
   "name": "python",
   "nbconvert_exporter": "python",
   "pygments_lexer": "ipython3",
   "version": "3.10.7"
  }
 },
 "nbformat": 4,
 "nbformat_minor": 5
}
